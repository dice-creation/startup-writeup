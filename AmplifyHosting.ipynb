{
 "cells": [
  {
   "cell_type": "markdown",
   "metadata": {},
   "source": [
    "<center>Amplify Hosting WriteUp(July 22)</center>"
   ]
  },
  {
   "cell_type": "markdown",
   "metadata": {},
   "source": [
    "On AWS Console <br>\n"
   ]
  },
  {
   "cell_type": "markdown",
   "metadata": {},
   "source": [
    "[Amplify Tutorial Page](https://docs.amplify.aws/start/getting-started/installation/q/integration/js)"
   ]
  },
  {
   "cell_type": "markdown",
   "metadata": {},
   "source": [
    "&emsp; Set Region for hosting <br>\n",
    "&emsp; &emsp; Search Amplify on search bar >> scroll down to Get started >> select get started for Amplify Studio <br>\n",
    "&emsp; &emsp; Search Amplify on search bar >> New app >>  Build an App <br>\n",
    "Hosting Environments <br>\n",
    "&emsp; Select Github and connect Branch <br>\n",
    "&emsp; Sidetrack to Command Line Interface"
   ]
  },
  {
   "cell_type": "code",
   "execution_count": null,
   "metadata": {},
   "outputs": [],
   "source": [
    "# On Linux CLI\n",
    "cd ~/Desktop\n",
    "mkdir amplify_projects\n",
    "cd amplify_projects\n",
    "\n",
    "# creates a template for react\n",
    "npx create-react-app amplify-demo\n",
    "\n",
    "# Test that it runs\n",
    "cd amplify-demo\n",
    "npm run start"
   ]
  },
  {
   "cell_type": "markdown",
   "metadata": {},
   "source": [
    "On github create repository for project and follow \"or create a new repository on the command line\" in your CLI <br>\n",
    "If any error with push use:"
   ]
  },
  {
   "cell_type": "code",
   "execution_count": null,
   "metadata": {},
   "outputs": [],
   "source": [
    "# Token can be found in github settings under Developer settings --> Personal access tokens and generate with Authorizations\n",
    "git push https://[TOKEN]@github.com/[username]/[repo]"
   ]
  },
  {
   "cell_type": "markdown",
   "metadata": {},
   "source": [
    "Follow through with AWS Amplify<br>\n",
    "If missing service role, go to IAM in AWS Console <br>\n"
   ]
  },
  {
   "cell_type": "markdown",
   "metadata": {},
   "source": [
    "[IAM Tutorial role](https://docs.aws.amazon.com/amplify/latest/userguide/how-to-service-role-amplify-console.html)"
   ]
  },
  {
   "cell_type": "markdown",
   "metadata": {},
   "source": [
    "&emsp; Under Roles >> Create Role <br>\n",
    "&emsp; Change Use cases for other AWS Services to Amplify and select Amplify - Backend Development <br>\n",
    "&emsp; Everything default and add role name <br>\n",
    "Change Build and test settings, can be changed later under Build Settings<br>\n",
    "Note: amplifyPush allows to generate your api key achanget built time by providing credentials"
   ]
  },
  {
   "cell_type": "code",
   "execution_count": null,
   "metadata": {},
   "outputs": [],
   "source": [
    "version: 1\n",
    "backend:\n",
    "    phases:\n",
    "        build:\n",
    "            commands:\n",
    "                - '# Execute Amplify CLI with the helper script'\n",
    "                - amplifyPush --simple\n",
    "frontend:\n",
    "    phases:\n",
    "        preBuild:\n",
    "            commands:\n",
    "                - npm install\n",
    "        build:\n",
    "            commands:\n",
    "                - npm run build\n",
    "    artifacts:\n",
    "        baseDirectory: build\n",
    "        files:\n",
    "            - '**/*'\n",
    "    cache:\n",
    "        paths:\n",
    "            -node_modules/**/*"
   ]
  },
  {
   "cell_type": "markdown",
   "metadata": {},
   "source": [
    "On AWS Amplify, under Hosting environment select main >> url for the Domain to view webpage <br>\n",
    "Note: Amplify delpoys the latest version on git\n"
   ]
  },
  {
   "cell_type": "markdown",
   "metadata": {},
   "source": [
    "[Next Step](https://docs.amplify.aws/start/getting-started/nextsteps/q/integration/js/)"
   ]
  }
 ],
 "metadata": {
  "kernelspec": {
   "display_name": "Python 3 (ipykernel)",
   "language": "python",
   "name": "python3"
  },
  "language_info": {
   "codemirror_mode": {
    "name": "ipython",
    "version": 3
   },
   "file_extension": ".py",
   "mimetype": "text/x-python",
   "name": "python",
   "nbconvert_exporter": "python",
   "pygments_lexer": "ipython3",
   "version": "3.8.10"
  }
 },
 "nbformat": 4,
 "nbformat_minor": 4
}
